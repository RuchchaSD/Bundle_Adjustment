{
 "cells": [
  {
   "cell_type": "code",
   "execution_count": 11,
   "metadata": {},
   "outputs": [],
   "source": [
    "import numpy as np\n",
    "import matplotlib.pyplot as plt\n",
    "import csv"
   ]
  },
  {
   "cell_type": "code",
   "execution_count": 12,
   "metadata": {},
   "outputs": [],
   "source": [
    "def EstimateProjection(A,b):\n",
    "    p = A[0] \n",
    "    q = A[1]\n",
    "    r = A[2]\n",
    "    s = A[3]\n",
    "    t = A[4]\n",
    "    u = A[5]\n",
    "\n",
    "    l = b[0]\n",
    "    m = b[1]\n",
    "    n = b[2]\n",
    "\n",
    "    x = ((p+l)*(q+m)*(r+s*n) * np.log(u**2) + t) / (p**2 + q**2 + r**2)\n",
    "    y = u*(r*m + q*l + t*n) * np.log((p+s)**2) / (s**2 + t**2 + u**2)\n",
    "\n",
    "\n",
    "    return np.array([x,y])\n"
   ]
  },
  {
   "cell_type": "code",
   "execution_count": 13,
   "metadata": {},
   "outputs": [],
   "source": [
    "scaleFactor = 10\n",
    "A_sigma = 0.15\n",
    "b_sigma = 0.1\n",
    "numPoses = 20\n",
    "numLandmarks = 1000\n",
    "SigmaFactor = 2"
   ]
  },
  {
   "cell_type": "code",
   "execution_count": 14,
   "metadata": {},
   "outputs": [
    {
     "name": "stdout",
     "output_type": "stream",
     "text": [
      "poses:  20\n",
      "landmarks:  1000\n"
     ]
    }
   ],
   "source": [
    "poses = []\n",
    "poses_noise = []\n",
    "landmarks = []\n",
    "landmarks_noise = []\n",
    "projection = []\n",
    "\n",
    "for i in range(0, numPoses):\n",
    "    A = np.random.rand(6) * scaleFactor\n",
    "    # add gaussian noise to A\n",
    "    A_noise = A + np.random.normal(0, A_sigma, 6)\n",
    "    poses.append(A)\n",
    "    poses_noise.append(A_noise)\n",
    "\n",
    "for i in range(0, numLandmarks):\n",
    "    b = np.random.rand(3) * scaleFactor\n",
    "    # add gaussian noise to b\n",
    "    b_noise = b + np.random.normal(0, b_sigma, 3)\n",
    "    landmarks.append(b)\n",
    "    landmarks_noise.append(b_noise)\n",
    "\n",
    "\n",
    "\n",
    "print(\"poses: \", len(poses))\n",
    "print(\"landmarks: \", len(landmarks))\n",
    "\n"
   ]
  },
  {
   "cell_type": "code",
   "execution_count": 15,
   "metadata": {},
   "outputs": [
    {
     "name": "stdout",
     "output_type": "stream",
     "text": [
      "[164, 156, 138, 162, 148, 151, 138, 143, 171, 141, 150, 169, 155, 144, 177, 152, 154, 140, 140, 131]\n",
      "================================\n",
      "[1, 1, 3, 2, 3, 5, 2, 3, 2, 1, 5, 3, 3, 5, 4, 2, 1, 2, 2, 3, 3, 1, 4, 4, 5, 3, 3, 2, 1, 1, 5, 4, 2, 5, 1, 3, 2, 4, 1, 1, 5, 3, 5, 4, 2, 4, 1, 3, 3, 3, 3, 5, 5, 5, 1, 4, 1, 4, 3, 1, 4, 2, 5, 2, 2, 5, 1, 5, 3, 5, 4, 1, 2, 5, 1, 5, 3, 5, 2, 5, 5, 2, 3, 2, 4, 3, 1, 3, 3, 5, 5, 4, 3, 2, 1, 1, 2, 5, 1, 4, 2, 2, 3, 3, 5, 3, 4, 1, 2, 5, 5, 5, 3, 1, 2, 3, 3, 3, 4, 3, 3, 2, 1, 2, 4, 1, 2, 1, 4, 4, 3, 4, 1, 1, 1, 2, 1, 3, 3, 1, 2, 3, 4, 4, 2, 5, 2, 4, 3, 3, 1, 2, 1, 3, 5, 2, 4, 2, 3, 4, 1, 5, 2, 2, 5, 2, 5, 4, 1, 3, 1, 5, 1, 4, 4, 2, 4, 3, 4, 3, 1, 1, 1, 3, 5, 4, 3, 4, 2, 5, 2, 2, 3, 1, 2, 4, 1, 2, 5, 3, 1, 4, 5, 5, 3, 1, 1, 5, 3, 1, 5, 2, 3, 2, 2, 2, 2, 3, 4, 2, 3, 3, 4, 5, 4, 4, 3, 3, 3, 2, 3, 2, 3, 2, 2, 3, 4, 3, 3, 2, 3, 4, 3, 2, 2, 3, 3, 2, 4, 1, 2, 2, 2, 4, 3, 5, 4, 2, 2, 2, 2, 5, 1, 2, 3, 4, 4, 5, 5, 2, 5, 4, 2, 5, 2, 5, 5, 2, 1, 4, 5, 3, 3, 2, 5, 3, 4, 2, 3, 5, 5, 2, 4, 3, 5, 5, 2, 1, 1, 4, 1, 2, 2, 5, 3, 2, 2, 4, 4, 1, 5, 3, 1, 5, 1, 2, 3, 4, 5, 2, 5, 5, 2, 5, 4, 3, 3, 3, 5, 4, 1, 1, 5, 2, 1, 3, 1, 5, 1, 1, 2, 1, 1, 4, 2, 5, 5, 3, 5, 4, 1, 1, 2, 1, 4, 5, 5, 2, 2, 1, 1, 3, 5, 3, 2, 3, 4, 4, 4, 5, 1, 3, 3, 5, 4, 2, 3, 2, 3, 5, 1, 3, 3, 2, 5, 2, 1, 2, 3, 3, 3, 3, 2, 3, 1, 3, 4, 5, 3, 4, 2, 3, 2, 2, 5, 4, 2, 1, 4, 5, 4, 3, 1, 4, 4, 3, 3, 5, 3, 4, 5, 4, 5, 1, 2, 4, 4, 4, 2, 4, 3, 5, 3, 4, 1, 5, 3, 2, 1, 5, 3, 2, 4, 1, 1, 2, 5, 5, 1, 4, 2, 3, 3, 4, 4, 1, 1, 2, 5, 2, 1, 5, 3, 5, 2, 5, 4, 5, 5, 1, 1, 5, 1, 3, 2, 3, 5, 3, 5, 5, 2, 3, 1, 4, 1, 4, 4, 3, 5, 1, 2, 4, 1, 4, 2, 4, 4, 5, 4, 2, 4, 4, 1, 1, 5, 4, 2, 2, 4, 3, 2, 4, 3, 1, 5, 1, 1, 3, 3, 4, 1, 5, 1, 4, 3, 1, 2, 3, 4, 4, 5, 4, 3, 2, 2, 2, 5, 2, 5, 4, 1, 5, 1, 5, 3, 2, 5, 2, 4, 3, 3, 4, 1, 2, 2, 2, 3, 1, 4, 1, 4, 3, 4, 1, 4, 1, 4, 5, 5, 4, 4, 4, 4, 5, 5, 3, 5, 5, 3, 5, 5, 1, 5, 3, 1, 2, 3, 2, 5, 3, 5, 1, 4, 5, 2, 5, 5, 2, 5, 2, 3, 5, 4, 1, 2, 5, 4, 1, 5, 3, 2, 4, 3, 2, 1, 3, 3, 3, 2, 4, 3, 2, 1, 5, 4, 2, 3, 1, 1, 1, 4, 2, 1, 1, 4, 5, 2, 1, 5, 1, 2, 1, 4, 4, 2, 2, 1, 3, 1, 4, 5, 5, 1, 1, 5, 2, 3, 4, 5, 4, 3, 5, 3, 5, 3, 2, 4, 5, 4, 2, 4, 4, 1, 1, 5, 2, 4, 4, 5, 1, 4, 3, 2, 4, 3, 2, 5, 5, 2, 3, 3, 2, 4, 2, 2, 1, 4, 3, 1, 4, 1, 2, 4, 4, 3, 3, 2, 4, 3, 1, 3, 1, 4, 4, 3, 2, 3, 1, 3, 4, 1, 5, 1, 5, 2, 1, 4, 4, 5, 3, 5, 1, 3, 4, 2, 1, 2, 5, 3, 4, 2, 3, 4, 1, 3, 1, 3, 5, 4, 5, 3, 2, 2, 2, 4, 2, 4, 3, 5, 1, 1, 4, 3, 3, 4, 5, 3, 4, 2, 2, 1, 2, 4, 3, 2, 5, 4, 4, 4, 5, 5, 4, 2, 2, 5, 2, 3, 1, 3, 5, 5, 4, 2, 1, 2, 4, 1, 5, 5, 1, 5, 5, 3, 5, 1, 4, 1, 1, 5, 5, 1, 5, 2, 3, 4, 3, 3, 1, 2, 1, 1, 5, 2, 5, 1, 1, 5, 3, 4, 3, 1, 5, 3, 1, 2, 1, 3, 5, 5, 5, 4, 3, 3, 5, 4, 4, 1, 2, 4, 5, 3, 3, 2, 1, 3, 4, 5, 2, 5, 3, 2, 5, 3, 2, 3, 5, 3, 5, 1, 1, 3, 3, 2, 5, 3, 4, 5, 4, 3, 4, 5, 3, 3, 1, 1, 3, 3, 1, 3, 5, 1, 2, 4, 1, 3, 4, 5, 2, 4, 5, 4, 1, 4, 3, 5, 5, 4, 4, 2, 5, 2, 2, 1, 3, 2, 2, 5, 5, 3, 2, 4, 4, 3, 2, 5, 2, 5, 3, 2, 2, 1, 1, 5, 3, 3, 1, 2, 4, 1, 4, 4, 2, 4, 5, 1, 4, 3, 5, 3, 2, 4, 3, 4, 2, 2, 3, 1, 1, 1, 3, 3, 5, 5, 5, 1, 1, 5, 3, 5, 2, 4, 3, 3, 2, 1, 4, 1, 2, 3, 1, 3, 2, 5, 5, 4, 4, 2, 5, 5, 3, 4, 1, 5, 5, 2, 2, 2, 2, 3, 3]\n"
     ]
    }
   ],
   "source": [
    "\n",
    "# randomly select a pose and a landmark and append the projection to the projection list\n",
    "\n",
    "projectionArray = []\n",
    "poseIndexCount = [0] * numPoses\n",
    "landmarkIndexCount = [0] * numLandmarks\n",
    "\n",
    "\n",
    "\n",
    "for i in range(0, numLandmarks):    \n",
    "    b_ = landmarks[i]\n",
    "    b_noise_ = landmarks_noise[i]\n",
    "    randAr = []\n",
    "\n",
    "    attachedPoseCount = numPoses // 4\n",
    "    \n",
    "    while len(randAr) < attachedPoseCount:\n",
    "        randAr.append(np.random.randint(0, numPoses))\n",
    "        randAr = np.unique(randAr)\n",
    "        randAr = randAr.tolist()\n",
    "    \n",
    "    # print(randAr)\n",
    "    \n",
    "    #randomize elements in randAr\n",
    "    np.random.shuffle(randAr)\n",
    "    # randAr = randAr.tolist()\n",
    "    \n",
    "    for j in range(0, np.random.randint(1, attachedPoseCount+1)):\n",
    "        poseIndex = randAr[j]\n",
    "\n",
    "        poseIndexCount[poseIndex] += 1\n",
    "        landmarkIndexCount[i] += 1\n",
    "\n",
    "        A_ = poses[poseIndex]\n",
    "        A_noise_ = poses_noise[poseIndex]\n",
    "\n",
    "        correctEstimate = EstimateProjection(A_,b_)\n",
    "        noisyEstimate = EstimateProjection(A_noise_,b_noise_)\n",
    "\n",
    "        estimate1Digits = np.floor(np.log10(np.abs(correctEstimate[0])))\n",
    "        estimate2Digits = np.floor(np.log10(np.abs(correctEstimate[1])))\n",
    "\n",
    "        projection1Sigma = 10 ** (estimate1Digits - SigmaFactor)\n",
    "        projection2Sigma = 10 ** (estimate2Digits - SigmaFactor)\n",
    "        \n",
    "        noise = [np.random.normal(0, projection1Sigma), np.random.normal(0, projection2Sigma)]\n",
    "\n",
    "        tempArray = [randAr[j], i,[projection1Sigma,projection2Sigma], \n",
    "                     correctEstimate.tolist(), (correctEstimate + noise).tolist(), (noisyEstimate+noise).tolist()] # [poseIndex, landmarkIndex, correct_projection(with correct input),\n",
    "                                                                #noisy_projection(with correct input), noisy_projection(with noisy input)]\n",
    "        projectionArray.append(tempArray)\n",
    "\n",
    "\n",
    "\n",
    "print(poseIndexCount)\n",
    "print(\"================================\")\n",
    "print(landmarkIndexCount)\n",
    "\n",
    "\n"
   ]
  },
  {
   "cell_type": "code",
   "execution_count": 16,
   "metadata": {},
   "outputs": [
    {
     "name": "stdout",
     "output_type": "stream",
     "text": [
      "projectionArray:  3024\n",
      "[9, 838, [0.1, 0.1], [45.387977660318484, 13.227530561023508], [45.31539716367907, 13.258074341097185], [55.21116757118878, 13.784609700517224]]\n"
     ]
    }
   ],
   "source": [
    "print(\"projectionArray: \", len(projectionArray))\n",
    "print(projectionArray[np.random.randint(0, len(projectionArray))])"
   ]
  },
  {
   "cell_type": "code",
   "execution_count": 17,
   "metadata": {},
   "outputs": [
    {
     "name": "stdout",
     "output_type": "stream",
     "text": [
      "Projection data has been written to projection.csv.\n"
     ]
    }
   ],
   "source": [
    "filename = \"projection.csv\"\n",
    "\n",
    "with open(filename, mode='w', newline='') as file:\n",
    "    writer = csv.writer(file)\n",
    "    writer.writerow([\"projectionIndex\",\"poseIndex\", \"landmarkIndex\", \"projection1Sigma\", \"projection2Sigma\", \"correctEstimateX\", \"correctEstimateY\", \"correctEstimateX + noise\", \"correctEstimateY + noise\", \"noisyEstimateX + noise\", \"noisyEstimateY + noise\"])\n",
    "    \n",
    "    index = 0\n",
    "\n",
    "    for item in projectionArray:\n",
    "        writer.writerow([index,item[0], item[1], item[2][0], item[2][1], item[3][0], item[3][1], item[4][0], item[4][1], item[5][0], item[5][1]])\n",
    "        index += 1\n",
    "\n",
    "print(f\"Projection data has been written to {filename}.\")\n",
    "\n",
    "\n"
   ]
  },
  {
   "cell_type": "code",
   "execution_count": 18,
   "metadata": {},
   "outputs": [],
   "source": [
    "filename = \"poses.csv\"\n",
    "\n",
    "with open(filename, mode='w', newline='') as file:\n",
    "    writer = csv.writer(file)\n",
    "    writer.writerow([\"poseIndex\", \"p\", \"q\", \"r\", \"s\", \"t\", \"u\", \"p_noise\", \"q_noise\", \"r_noise\", \"s_noise\", \"t_noise\", \"u_noise\"])\n",
    "    \n",
    "    index = 0\n",
    "\n",
    "    for i in range(0, numPoses):\n",
    "        item = poses[i]\n",
    "        item_noise = poses_noise[i]\n",
    "        writer.writerow([index, item[0], item[1], item[2], item[3], item[4], item[5], item_noise[0], item_noise[1], item_noise[2], item_noise[3], item_noise[4], item_noise[5]])\n",
    "        index += 1"
   ]
  },
  {
   "cell_type": "code",
   "execution_count": 19,
   "metadata": {},
   "outputs": [],
   "source": [
    "filename = \"landmarks.csv\"\n",
    "\n",
    "with open(filename, mode='w', newline='') as file:\n",
    "    writer = csv.writer(file)\n",
    "    writer.writerow([\"landmarkIndex\", \"l\", \"m\", \"m\", \"l_noise\", \"m_noise\", \"n_noise\"])\n",
    "    \n",
    "    index = 0\n",
    "\n",
    "    for i in range(0, numLandmarks):\n",
    "        item = landmarks[i]\n",
    "        item_noise = landmarks_noise[i]\n",
    "        writer.writerow([index, item[0], item[1], item[2], item_noise[0], item_noise[1], item_noise[2]])\n",
    "        index += 1"
   ]
  }
 ],
 "metadata": {
  "kernelspec": {
   "display_name": "Python 3",
   "language": "python",
   "name": "python3"
  },
  "language_info": {
   "codemirror_mode": {
    "name": "ipython",
    "version": 3
   },
   "file_extension": ".py",
   "mimetype": "text/x-python",
   "name": "python",
   "nbconvert_exporter": "python",
   "pygments_lexer": "ipython3",
   "version": "3.12.4"
  }
 },
 "nbformat": 4,
 "nbformat_minor": 2
}
