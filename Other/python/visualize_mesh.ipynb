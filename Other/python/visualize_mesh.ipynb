{
 "cells": [
  {
   "cell_type": "code",
   "execution_count": 1,
   "metadata": {},
   "outputs": [
    {
     "name": "stdout",
     "output_type": "stream",
     "text": [
      "Jupyter environment detected. Enabling Open3D WebVisualizer.\n",
      "[Open3D INFO] WebRTC GUI backend enabled.\n",
      "[Open3D INFO] WebRTCWindowSystem: HTTP handshake server disabled.\n"
     ]
    }
   ],
   "source": [
    "import matplotlib.pyplot as plt\n",
    "import numpy as np\n",
    "import open3d as o3d"
   ]
  },
  {
   "cell_type": "code",
   "execution_count": 2,
   "metadata": {},
   "outputs": [],
   "source": [
    "before_file = \"D:\\\\University\\\\C++\\\\Source\\\\Libraries\\\\temp\\\\withoutcmake\\\\withoutcmake\\\\initial.ply\"\n",
    "after_file = \"D:\\\\University\\\\C++\\\\Source\\\\Libraries\\\\temp\\\\withoutcmake\\\\withoutcmake\\\\final.ply\"\n",
    "\n"
   ]
  },
  {
   "cell_type": "code",
   "execution_count": 3,
   "metadata": {},
   "outputs": [
    {
     "name": "stdout",
     "output_type": "stream",
     "text": [
      "[Open3D WARNING] Read PLY failed: unable to read file: D:\\University\\C++\\Source\\Libraries\\temp\\withoutcmake\\withoutcmake\\initial.ply\n"
     ]
    }
   ],
   "source": [
    "mesh_before = o3d.io.read_point_cloud(before_file)\n",
    "o3d.visualization.draw_geometries([mesh_before])"
   ]
  },
  {
   "cell_type": "code",
   "execution_count": 4,
   "metadata": {},
   "outputs": [
    {
     "name": "stdout",
     "output_type": "stream",
     "text": [
      "[Open3D WARNING] Read PLY failed: unable to read file: D:\\University\\C++\\Source\\Libraries\\temp\\withoutcmake\\withoutcmake\\final.ply\n"
     ]
    }
   ],
   "source": [
    "mesh_after = o3d.io.read_point_cloud(after_file)\n",
    "o3d.visualization.draw_geometries([mesh_after])"
   ]
  }
 ],
 "metadata": {
  "kernelspec": {
   "display_name": "Python 3",
   "language": "python",
   "name": "python3"
  },
  "language_info": {
   "codemirror_mode": {
    "name": "ipython",
    "version": 3
   },
   "file_extension": ".py",
   "mimetype": "text/x-python",
   "name": "python",
   "nbconvert_exporter": "python",
   "pygments_lexer": "ipython3",
   "version": "3.10.9"
  }
 },
 "nbformat": 4,
 "nbformat_minor": 2
}
