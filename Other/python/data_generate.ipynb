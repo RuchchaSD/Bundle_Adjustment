{
 "cells": [
  {
   "cell_type": "code",
   "execution_count": 1,
   "metadata": {},
   "outputs": [],
   "source": [
    "import matplotlib.pyplot as plt\n",
    "import numpy as np\n"
   ]
  },
  {
   "cell_type": "code",
   "execution_count": 2,
   "metadata": {},
   "outputs": [
    {
     "name": "stdout",
     "output_type": "stream",
     "text": [
      "Number of measurements: 1000\n"
     ]
    },
    {
     "data": {
      "image/png": "[encoded data removed]",
      "text/plain": [
       "<Figure size 640x480 with 1 Axes>"
      ]
     },
     "metadata": {},
     "output_type": "display_data"
    }
   ],
   "source": [
    "y = [] \n",
    "# x = np.arange(0,10, 0.01)\n",
    "x = np.arange(0,1.0, 0.001)\n",
    "# x = np.arange(-5, 5, 0.1)\n",
    "z = []\n",
    "p = []\n",
    "\n",
    "a = 3\n",
    "b = 2\n",
    "c = 4\n",
    "\n",
    "for i in x:\n",
    "    y_val =np.exp((a)*(i**2) + ((b)*i) + (c))\n",
    "    # y_val = (a*(i**2) + (b*i) + c)\n",
    "    p.append(i + np.random.normal(0, 0.01))\n",
    "    y.append(y_val)\n",
    "    z.append(y_val + np.random.normal(0, 1))\n",
    "\n",
    "_ = x\n",
    "# x = p\n",
    "p = _\n",
    "\n",
    "# # introduce outliers\n",
    "# z[60] = 1250\n",
    "# z[43] = -3000\n",
    "# z[54] = -10000\n",
    "# z[87] = +6666\n",
    "# z[790] = 1250\n",
    "# z[98] = -3000\n",
    "# z[287] = -10000\n",
    "# z[687] = +48\n",
    "# z[460] = 1250\n",
    "# z[184] = -3000\n",
    "# z[427] = -10000\n",
    "# z[987] = +48\n",
    "# z[860] = 1250\n",
    "# z[514] = -3000\n",
    "# z[327] = -10000\n",
    "# z[787] = +48\n",
    "\n",
    "print(\"Number of measurements: \"+ str(len(x)))\n",
    "\n",
    "plt.plot(p, y)\n",
    "plt.plot(x,y,color='r')\n",
    "plt.scatter(x, z, s=1)\n",
    "plt.show()"
   ]
  },
  {
   "cell_type": "code",
   "execution_count": 3,
   "metadata": {},
   "outputs": [],
   "source": [
    "file_path = \"../data/data.csv\"\n",
    "with open(file_path, \"w\") as file:\n",
    "    for i in range(len(x)):\n",
    "        file.write(f\"{x[i]},{z[i]}\\n\")"
   ]
  },
  {
   "cell_type": "code",
   "execution_count": 4,
   "metadata": {},
   "outputs": [],
   "source": [
    "#save file into the withoutcmake project\n",
    "file_path = \"D:\\\\University\\\\C++\\\\Source\\\\Libraries\\\\temp\\\\withoutcmake\\\\withoutcmake\\\\data.csv\"\n",
    "with open(file_path, \"w\") as file:\n",
    "    for i in range(len(x)):\n",
    "        file.write(f\"{x[i]},{z[i]}\\n\")"
   ]
  },
  {
   "cell_type": "code",
   "execution_count": 5,
   "metadata": {},
   "outputs": [],
   "source": [
    "file_path2 = \"..\\data\\\\results.csv\"\n",
    "with open(file_path2, \"w\") as file:\n",
    "    file.write(\"\")"
   ]
  },
  {
   "cell_type": "code",
   "execution_count": 6,
   "metadata": {},
   "outputs": [],
   "source": [
    "file_path2 = \"..\\data\\\\results.csv\"\n",
    "with open(file_path2, \"r\") as file:\n",
    "    text = file.read();\n",
    "\n",
    "rows = text.split(\"\\n\")\n",
    "results = []\n",
    "xs = []\n",
    "for row in rows:\n",
    "    temp = row.split(\",\")\n",
    "    if(len(temp) > 1 ):\n",
    "        results.append(temp)        \n",
    "for result in results:\n",
    "    print(result)\n",
    "\n",
    "    if(result[0] == \"x_estimates\"):\n",
    "        xs = []\n",
    "        for i in range(len(result[1:])):\n",
    "            xs.append(float(result[i+1]))\n",
    "        # print(xs)\n",
    "        continue\n",
    "    Y = []\n",
    "    p = np.float64(result[1])\n",
    "    q = np.float64(result[2])\n",
    "    r = np.float64(result[3])\n",
    "\n",
    "    for i in xs:\n",
    "        Y_val =np.exp((p)*(i**2) + (q)*i + (r))\n",
    "        Y.append(Y_val)\n",
    "\n",
    "    plt.title(result[0])\n",
    "    plt.plot(xs, Y)\n",
    "    # plt.plot(x, y)\n",
    "    plt.scatter(xs, z, s=3,color = 'r')\n",
    "    # plt.scatter(x, z, s=3,color = 'g')\n",
    "    plt.show()\n",
    "\n",
    "    xs = x"
   ]
  },
  {
   "cell_type": "code",
   "execution_count": null,
   "metadata": {},
   "outputs": [],
   "source": []
  }
 ],
 "metadata": {
  "kernelspec": {
   "display_name": "Python 3",
   "language": "python",
   "name": "python3"
  },
  "language_info": {
   "codemirror_mode": {
    "name": "ipython",
    "version": 3
   },
   "file_extension": ".py",
   "mimetype": "text/x-python",
   "name": "python",
   "nbconvert_exporter": "python",
   "pygments_lexer": "ipython3",
   "version": "3.10.9"
  }
 },
 "nbformat": 4,
 "nbformat_minor": 2
}
