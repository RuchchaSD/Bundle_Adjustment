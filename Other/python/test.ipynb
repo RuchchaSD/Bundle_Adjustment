{
 "cells": [
  {
   "cell_type": "code",
   "execution_count": 1,
   "metadata": {},
   "outputs": [],
   "source": [
    "import numpy as np"
   ]
  },
  {
   "cell_type": "code",
   "execution_count": 2,
   "metadata": {},
   "outputs": [],
   "source": [
    "#generate code to print a matrix from a numpy array\n",
    "def print_matrix(matrix):\n",
    "    print()\n",
    "    max_lengths = [max(len(str(element)) for element in column) for column in zip(*matrix)]\n",
    "    for row in matrix:\n",
    "        for element, length in zip(row, max_lengths):\n",
    "            print(str(element).ljust(length + 1), end='')\n",
    "        print()\n",
    "    print()\n",
    "\n",
    "\n",
    "#generate code to print a vector from a numpy array\n",
    "def print_vector(vector):\n",
    "    print()\n",
    "    for element in vector:\n",
    "        print(element)\n",
    "    print()"
   ]
  },
  {
   "cell_type": "code",
   "execution_count": 3,
   "metadata": {},
   "outputs": [],
   "source": [
    "# Convert string to matrix\n",
    "def string_to_matrix(matrix_str):\n",
    "    return np.array([list(map(float, row.split())) for row in matrix_str.split(\"\\n\")])\n",
    "\n",
    "def string_to_vector(vector_str):\n",
    "    # Split the string by newlines and convert each element to float\n",
    "    vector = np.array([float(item) for item in vector_str.strip().split('\\n')])\n",
    "    return vector\n",
    "\n",
    "\n",
    "\n",
    "\n",
    "def schur_marginalization_vector(matrix, row, vector):\n",
    "    # Separate the matrix into blocks\n",
    "    A = matrix[:row, :row]      # Top-left block\n",
    "    B = matrix[:row, row:]      # Top-right block\n",
    "    C = matrix[row:, :row]      # Bottom-left block\n",
    "    D = matrix[row:, row:]      # Bottom-right block\n",
    "    \n",
    "    # Check if A is invertible\n",
    "    if np.linalg.det(A) == 0:\n",
    "        raise ValueError(\"The top-left block A is not invertible, cannot apply Schur complement.\")\n",
    "    \n",
    "    D_inv = np.linalg.inv(D)  # Inverse of A\n",
    "    \n",
    "    # Compute the Schur complement\n",
    "    compliment = B @ D_inv @ C\n",
    "    S = A - compliment\n",
    "    print(\"compliment:\\n\")\n",
    "    print_matrix(compliment)\n",
    "    print()\n",
    "    # Compute the new vector\n",
    "    new_vector = vector[:row] - B @ D_inv @ vector[row:]\n",
    "    return S, D_inv, new_vector\n",
    "\n",
    "\n",
    "\n",
    "def marginalization_vector(matrix, row, vector , result_vector):\n",
    "    # Separate the matrix into blocks\n",
    "    A = matrix[:row, :row]      # Top-left block\n",
    "    B = matrix[:row, row:]      # Top-right block\n",
    "    C = matrix[row:, :row]      # Bottom-left block\n",
    "    D = matrix[row:, row:]      # Bottom-right block\n",
    "    \n",
    "    new_vector = vector[row:] - C @ result_vector\n",
    "    return new_vector"
   ]
  },
  {
   "cell_type": "code",
   "execution_count": 4,
   "metadata": {},
   "outputs": [],
   "source": [
    "def solve_linear_equation(A, b):\n",
    "    \"\"\"\n",
    "    Solves the linear equation Ax = b for x.\n",
    "\n",
    "    Parameters:\n",
    "    - A: 2D numpy array representing the matrix A.\n",
    "    - b: 1D numpy array representing the vector b.\n",
    "\n",
    "    Returns:\n",
    "    - x: 1D numpy array representing the solution vector x.\n",
    "    \"\"\"\n",
    "    # Check if A is square and the number of equations matches the number of unknowns\n",
    "    if A.shape[0] != A.shape[1] or A.shape[0] != b.shape[0]:\n",
    "        raise ValueError(\"Matrix A must be square and the size of vector b must match the number of rows in A.\")\n",
    "    \n",
    "    # Solve the linear equation\n",
    "    x = np.linalg.solve(A, b)\n",
    "    return x\n",
    "\n"
   ]
  },
  {
   "cell_type": "code",
   "execution_count": 5,
   "metadata": {},
   "outputs": [],
   "source": [
    "# Define the input matrix as a string and the row after which marginalization is applied\n",
    "matrix_str = \"\"\"10896710.3401 12398571.058 14169021.0151 0 122.773507938 1079.52346317 5808.37115221 27147.0340738 123394.713763 574419.560659 2817046.07893 14807368.842 84373081.4809\n",
    "12398571.058 14169791.8309 16282657.176 0 1227.73507938 5397.61731584 19361.237174 67867.5851844 246789.427527 957365.934432 4024351.54133 18509211.0525 93747868.3121\n",
    "14169021.0151 16282657.176 18862053.3328 5961.91597408 12277.3507938 26988.0865792 64537.4572468 169668.962961 493578.855054 1595609.89072 5749073.63048 23136513.8156 104164298.125\n",
    "0 0 5961.91597408 12694.6477543 0 0 0 0 0 0 0 0 0\n",
    "122.773507938 1227.73507938 12277.3507938 0 32691.9278701 0 0 0 0 0 0 0 0\n",
    "1079.52346317 5397.61731584 26988.0865792 0 0 87132.6928596 0 0 0 0 0 0 0\n",
    "5808.37115221 19361.237174 64537.4572468 0 0 0 246013.153344 0 0 0 0 0 0\n",
    "27147.0340738 67867.5851844 169668.962961 0 0 0 0 747314.252835 0 0 0 0 0\n",
    "123394.713763 246789.427527 493578.855054 0 0 0 0 0 2468665.09108 0 0 0 0\n",
    "574419.560659 957365.934432 1595609.89072 0 0 0 0 0 0 8936186.20384 0 0 0\n",
    "2817046.07893 4024351.54133 5749073.63048 0 0 0 0 0 0 0 35645027.3248 0 0\n",
    "14807368.842 18509211.0525 23136513.8156 0 0 0 0 0 0 0 0 157329064.762 0\n",
    "84373081.4809 93747868.3121 104164298.125 0 0 0 0 0 0 0 0 0 770816576.938\"\"\"\n",
    "marginalize_after_row = 3  # Python uses zero-based indexing\n",
    "\n",
    "\n"
   ]
  },
  {
   "cell_type": "code",
   "execution_count": 6,
   "metadata": {},
   "outputs": [],
   "source": [
    "# Main execution\n",
    "original_matrix = string_to_matrix(matrix_str)\n",
    "# print(\"Original matrix:\")\n",
    "# print(original_matrix)\n",
    "# print()\n",
    "\n"
   ]
  },
  {
   "cell_type": "code",
   "execution_count": 7,
   "metadata": {},
   "outputs": [],
   "source": [
    "vector_str = \"\"\"-0\n",
    "-0\n",
    "-0\n",
    "-0\n",
    "-0\n",
    "-0\n",
    "-0\n",
    "-0\n",
    "-0\n",
    "-0\n",
    "-0\n",
    "-0\n",
    "-0\"\"\""
   ]
  },
  {
   "cell_type": "code",
   "execution_count": 8,
   "metadata": {},
   "outputs": [],
   "source": [
    "vector = string_to_vector(vector_str)\n",
    "# print_vector(vector)"
   ]
  },
  {
   "cell_type": "code",
   "execution_count": 9,
   "metadata": {},
   "outputs": [
    {
     "name": "stdout",
     "output_type": "stream",
     "text": [
      "compliment:\n",
      "\n",
      "\n",
      "10895911.955022069 12398531.531567717 14168957.314848095 \n",
      "12398531.531567717 14168957.314800048 16282529.048097135 \n",
      "14168957.314848095 16282529.048097135 18860716.381893028 \n",
      "\n",
      "\n"
     ]
    }
   ],
   "source": [
    "schur_result,d_inv,v = schur_marginalization_vector(original_matrix, marginalize_after_row,vector)\n"
   ]
  },
  {
   "cell_type": "code",
   "execution_count": 10,
   "metadata": {},
   "outputs": [
    {
     "name": "stdout",
     "output_type": "stream",
     "text": [
      "A shape:  (13, 13)\n",
      "b shape:  (13,)\n",
      "Solution x:\n",
      "\n",
      "0.0\n",
      "0.0\n",
      "0.0\n",
      "0.0\n",
      "0.0\n",
      "0.0\n",
      "0.0\n",
      "0.0\n",
      "0.0\n",
      "0.0\n",
      "0.0\n",
      "-0.0\n",
      "-0.0\n",
      "\n"
     ]
    }
   ],
   "source": [
    "A = original_matrix\n",
    "b = vector  \n",
    "\n",
    "print (\"A shape: \", A.shape)\n",
    "print (\"b shape: \", b.shape)\n",
    "\n",
    "\n",
    "x = solve_linear_equation(A, b)\n",
    "print(\"Solution x:\")\n",
    "print_vector(x)"
   ]
  },
  {
   "cell_type": "code",
   "execution_count": 168,
   "metadata": {},
   "outputs": [
    {
     "name": "stdout",
     "output_type": "stream",
     "text": [
      "A shape:  (3, 3)\n",
      "b shape:  (3,)\n",
      "Solution active x:\n",
      "\n",
      "-0.0\n",
      "0.0\n",
      "0.0\n",
      "\n"
     ]
    }
   ],
   "source": [
    "A = schur_result\n",
    "b = v\n",
    "\n",
    "print (\"A shape: \", A.shape)\n",
    "print (\"b shape: \", b.shape)\n",
    "\n",
    "\n",
    "x = solve_linear_equation(A, b)\n",
    "print(\"Solution active x:\")\n",
    "print_vector(x)"
   ]
  },
  {
   "cell_type": "code",
   "execution_count": 11,
   "metadata": {},
   "outputs": [
    {
     "name": "stdout",
     "output_type": "stream",
     "text": [
      "active matrix: \n",
      "\n",
      "798.3850779309869  39.526432283222675 63.70025190524757  \n",
      "39.526432283222675 834.5160999521613  128.12790286540985 \n",
      "63.70025190524757  128.12790286540985 1336.9509069733322 \n",
      "\n",
      "active vector:\n",
      "\n",
      "-0.0\n",
      "-0.0\n",
      "-0.0\n",
      "\n"
     ]
    }
   ],
   "source": [
    "print(\"active matrix: \")\n",
    "print_matrix(schur_result)\n",
    "\n",
    "print(\"active vector:\")\n",
    "print_vector(v)"
   ]
  },
  {
   "cell_type": "code",
   "execution_count": 170,
   "metadata": {},
   "outputs": [
    {
     "name": "stdout",
     "output_type": "stream",
     "text": [
      "A shape:  (10, 10)\n",
      "b shape:  (10,)\n",
      "Solution marginalzied x:\n",
      "\n",
      "0.0\n",
      "0.0\n",
      "0.0\n",
      "0.0\n",
      "0.0\n",
      "0.0\n",
      "0.0\n",
      "0.0\n",
      "0.0\n",
      "0.0\n",
      "\n"
     ]
    }
   ],
   "source": [
    "Marge_b = marginalization_vector(original_matrix, marginalize_after_row, vector, x)\n",
    "\n",
    "print (\"A shape: \", A_inv.shape)\n",
    "print (\"b shape: \", Marge_b.shape)\n",
    "\n",
    "marge_x = d_inv @ Marge_b \n",
    "print(\"Solution marginalzied x:\")\n",
    "print_vector(marge_x)"
   ]
  },
  {
   "cell_type": "code",
   "execution_count": 171,
   "metadata": {},
   "outputs": [
    {
     "name": "stdout",
     "output_type": "stream",
     "text": [
      "d_inv matrix: \n",
      "\n",
      "7.877335546086929e-05 0.0                   0.0                    0.0                   0.0                    0.0                    0.0                    0.0                    0.0                   0.0                   \n",
      "0.0                   3.058859067514947e-05 0.0                    0.0                   0.0                    0.0                    0.0                    0.0                    0.0                   0.0                   \n",
      "0.0                   0.0                   1.1476748476158488e-05 0.0                   0.0                    0.0                    0.0                    0.0                    0.0                   0.0                   \n",
      "0.0                   0.0                   0.0                    4.064823308864713e-06 0.0                    0.0                    0.0                    0.0                    0.0                   0.0                   \n",
      "0.0                   0.0                   0.0                    0.0                   1.3381251544533176e-06 0.0                    0.0                    0.0                    0.0                   0.0                   \n",
      "0.0                   0.0                   0.0                    0.0                   0.0                    4.0507722315727995e-07 0.0                    0.0                    0.0                   0.0                   \n",
      "0.0                   0.0                   0.0                    0.0                   0.0                    0.0                    1.1190456165408532e-07 0.0                    0.0                   0.0                   \n",
      "0.0                   0.0                   0.0                    0.0                   0.0                    0.0                    0.0                    2.8054404079647058e-08 0.0                   0.0                   \n",
      "0.0                   0.0                   0.0                    0.0                   0.0                    0.0                    0.0                    0.0                    6.356104649276044e-09 0.0                   \n",
      "0.0                   0.0                   0.0                    0.0                   0.0                    0.0                    0.0                    0.0                    0.0                   1.297325498593207e-09 \n",
      "\n",
      "Marginalized vector:\n",
      "\n",
      "-0.0\n",
      "-0.0\n",
      "-0.0\n",
      "-0.0\n",
      "-0.0\n",
      "-0.0\n",
      "-0.0\n",
      "-0.0\n",
      "-0.0\n",
      "-0.0\n",
      "\n"
     ]
    }
   ],
   "source": [
    "print(\"d_inv matrix: \")\n",
    "print_matrix(d_inv)\n",
    "\n",
    "print(\"Marginalized vector:\")\n",
    "print_vector(Marge_b)"
   ]
  }
 ],
 "metadata": {
  "kernelspec": {
   "display_name": "Python 3",
   "language": "python",
   "name": "python3"
  },
  "language_info": {
   "codemirror_mode": {
    "name": "ipython",
    "version": 3
   },
   "file_extension": ".py",
   "mimetype": "text/x-python",
   "name": "python",
   "nbconvert_exporter": "python",
   "pygments_lexer": "ipython3",
   "version": "3.10.9"
  }
 },
 "nbformat": 4,
 "nbformat_minor": 2
}
